{
  "nbformat": 4,
  "nbformat_minor": 0,
  "metadata": {
    "colab": {
      "provenance": [],
      "toc_visible": true
    },
    "kernelspec": {
      "name": "python3",
      "display_name": "Python 3"
    },
    "language_info": {
      "name": "python"
    }
  },
  "cells": [
    {
      "cell_type": "markdown",
      "source": [
        "#Begin"
      ],
      "metadata": {
        "id": "NaVtyCgmpheu"
      }
    },
    {
      "cell_type": "markdown",
      "source": [
        "##Purpose:\n",
        "\n",
        " provide an analysis that identifies what traits can be used to indicate a higher probability of a positive/ideal outcome"
      ],
      "metadata": {
        "id": "0uQIc3rrpt0E"
      }
    },
    {
      "cell_type": "code",
      "source": [
        "#libs import\n",
        "\n",
        "import pandas as pd\n",
        "import matplotlib.pyplot as plt\n",
        "from matplotlib import pyplot as plt\n",
        "import seaborn as sns\n",
        "from datetime import datetime, timedelta\n",
        "from datetime import datetime as dt\n",
        "\n",
        "\n",
        "%matplotlib inline"
      ],
      "metadata": {
        "id": "r40Ncul-iy1i"
      },
      "execution_count": 142,
      "outputs": []
    },
    {
      "cell_type": "code",
      "execution_count": 143,
      "metadata": {
        "colab": {
          "base_uri": "https://localhost:8080/"
        },
        "id": "QTALNF20iwzl",
        "outputId": "bec48406-4609-4562-e1da-70a5531d07d5"
      },
      "outputs": [
        {
          "output_type": "stream",
          "name": "stdout",
          "text": [
            "Drive already mounted at /content/gdrive; to attempt to forcibly remount, call drive.mount(\"/content/gdrive\", force_remount=True).\n"
          ]
        }
      ],
      "source": [
        "#import dist\n",
        "from google.colab import drive\n",
        "drive.mount('/content/gdrive')"
      ]
    },
    {
      "cell_type": "code",
      "source": [
        "try:\n",
        "    data=pd.read_excel('gdrive/My Drive/Linkedin Accounts That Purchased Memberships.xlsx')\n",
        "except:\n",
        "    path  = ''\n",
        "    data = pd.read_excel(path + 'Linkedin Accounts That Purchased Memberships.xlsx')"
      ],
      "metadata": {
        "id": "yLqS5KCki2Nt"
      },
      "execution_count": 144,
      "outputs": []
    },
    {
      "cell_type": "code",
      "source": [
        "#dataset with no changes\n",
        "raw_shape = data.shape"
      ],
      "metadata": {
        "id": "XwKHtVgiu9M2"
      },
      "execution_count": 145,
      "outputs": []
    },
    {
      "cell_type": "code",
      "source": [
        "data.describe()"
      ],
      "metadata": {
        "colab": {
          "base_uri": "https://localhost:8080/",
          "height": 300
        },
        "id": "Dmv682SW1AMr",
        "outputId": "24c9699e-9d82-4888-c7ee-7d55701d56a6"
      },
      "execution_count": 146,
      "outputs": [
        {
          "output_type": "execute_result",
          "data": {
            "text/plain": [
              "        subscribers        userId  connectionsCount  sirenFromDropContact  \\\n",
              "count    347.000000  2.890000e+02         50.000000          1.600000e+01   \n",
              "mean    2621.417867  1.382331e+08        495.360000          6.139440e+08   \n",
              "std     4094.423593  1.767940e+08         25.251195          2.011537e+08   \n",
              "min        0.000000  1.536100e+04        332.000000          3.495308e+08   \n",
              "25%      650.500000  1.787841e+07        500.000000          4.218131e+08   \n",
              "50%     1307.000000  6.125360e+07        500.000000          5.050729e+08   \n",
              "75%     2571.000000  1.860060e+08        500.000000          8.216789e+08   \n",
              "max    32970.000000  8.182356e+08        500.000000          8.892712e+08   \n",
              "\n",
              "       siretFromDropContact  siretZipFromDropContact  Unnamed: 72  \n",
              "count          1.600000e+01                15.000000          0.0  \n",
              "mean           6.139375e+13             57823.533333          NaN  \n",
              "std            2.010995e+13             32000.131698          NaN  \n",
              "min            3.500000e+13              6000.000000          NaN  \n",
              "25%            4.217500e+13             31310.000000          NaN  \n",
              "50%            5.050000e+13             69003.000000          NaN  \n",
              "75%            8.217500e+13             81875.000000          NaN  \n",
              "max            8.890000e+13             95130.000000          NaN  "
            ],
            "text/html": [
              "\n",
              "  <div id=\"df-5fefc852-d9c7-4666-a85a-79fc12a022ae\" class=\"colab-df-container\">\n",
              "    <div>\n",
              "<style scoped>\n",
              "    .dataframe tbody tr th:only-of-type {\n",
              "        vertical-align: middle;\n",
              "    }\n",
              "\n",
              "    .dataframe tbody tr th {\n",
              "        vertical-align: top;\n",
              "    }\n",
              "\n",
              "    .dataframe thead th {\n",
              "        text-align: right;\n",
              "    }\n",
              "</style>\n",
              "<table border=\"1\" class=\"dataframe\">\n",
              "  <thead>\n",
              "    <tr style=\"text-align: right;\">\n",
              "      <th></th>\n",
              "      <th>subscribers</th>\n",
              "      <th>userId</th>\n",
              "      <th>connectionsCount</th>\n",
              "      <th>sirenFromDropContact</th>\n",
              "      <th>siretFromDropContact</th>\n",
              "      <th>siretZipFromDropContact</th>\n",
              "      <th>Unnamed: 72</th>\n",
              "    </tr>\n",
              "  </thead>\n",
              "  <tbody>\n",
              "    <tr>\n",
              "      <th>count</th>\n",
              "      <td>347.000000</td>\n",
              "      <td>2.890000e+02</td>\n",
              "      <td>50.000000</td>\n",
              "      <td>1.600000e+01</td>\n",
              "      <td>1.600000e+01</td>\n",
              "      <td>15.000000</td>\n",
              "      <td>0.0</td>\n",
              "    </tr>\n",
              "    <tr>\n",
              "      <th>mean</th>\n",
              "      <td>2621.417867</td>\n",
              "      <td>1.382331e+08</td>\n",
              "      <td>495.360000</td>\n",
              "      <td>6.139440e+08</td>\n",
              "      <td>6.139375e+13</td>\n",
              "      <td>57823.533333</td>\n",
              "      <td>NaN</td>\n",
              "    </tr>\n",
              "    <tr>\n",
              "      <th>std</th>\n",
              "      <td>4094.423593</td>\n",
              "      <td>1.767940e+08</td>\n",
              "      <td>25.251195</td>\n",
              "      <td>2.011537e+08</td>\n",
              "      <td>2.010995e+13</td>\n",
              "      <td>32000.131698</td>\n",
              "      <td>NaN</td>\n",
              "    </tr>\n",
              "    <tr>\n",
              "      <th>min</th>\n",
              "      <td>0.000000</td>\n",
              "      <td>1.536100e+04</td>\n",
              "      <td>332.000000</td>\n",
              "      <td>3.495308e+08</td>\n",
              "      <td>3.500000e+13</td>\n",
              "      <td>6000.000000</td>\n",
              "      <td>NaN</td>\n",
              "    </tr>\n",
              "    <tr>\n",
              "      <th>25%</th>\n",
              "      <td>650.500000</td>\n",
              "      <td>1.787841e+07</td>\n",
              "      <td>500.000000</td>\n",
              "      <td>4.218131e+08</td>\n",
              "      <td>4.217500e+13</td>\n",
              "      <td>31310.000000</td>\n",
              "      <td>NaN</td>\n",
              "    </tr>\n",
              "    <tr>\n",
              "      <th>50%</th>\n",
              "      <td>1307.000000</td>\n",
              "      <td>6.125360e+07</td>\n",
              "      <td>500.000000</td>\n",
              "      <td>5.050729e+08</td>\n",
              "      <td>5.050000e+13</td>\n",
              "      <td>69003.000000</td>\n",
              "      <td>NaN</td>\n",
              "    </tr>\n",
              "    <tr>\n",
              "      <th>75%</th>\n",
              "      <td>2571.000000</td>\n",
              "      <td>1.860060e+08</td>\n",
              "      <td>500.000000</td>\n",
              "      <td>8.216789e+08</td>\n",
              "      <td>8.217500e+13</td>\n",
              "      <td>81875.000000</td>\n",
              "      <td>NaN</td>\n",
              "    </tr>\n",
              "    <tr>\n",
              "      <th>max</th>\n",
              "      <td>32970.000000</td>\n",
              "      <td>8.182356e+08</td>\n",
              "      <td>500.000000</td>\n",
              "      <td>8.892712e+08</td>\n",
              "      <td>8.890000e+13</td>\n",
              "      <td>95130.000000</td>\n",
              "      <td>NaN</td>\n",
              "    </tr>\n",
              "  </tbody>\n",
              "</table>\n",
              "</div>\n",
              "    <div class=\"colab-df-buttons\">\n",
              "\n",
              "  <div class=\"colab-df-container\">\n",
              "    <button class=\"colab-df-convert\" onclick=\"convertToInteractive('df-5fefc852-d9c7-4666-a85a-79fc12a022ae')\"\n",
              "            title=\"Convert this dataframe to an interactive table.\"\n",
              "            style=\"display:none;\">\n",
              "\n",
              "  <svg xmlns=\"http://www.w3.org/2000/svg\" height=\"24px\" viewBox=\"0 -960 960 960\">\n",
              "    <path d=\"M120-120v-720h720v720H120Zm60-500h600v-160H180v160Zm220 220h160v-160H400v160Zm0 220h160v-160H400v160ZM180-400h160v-160H180v160Zm440 0h160v-160H620v160ZM180-180h160v-160H180v160Zm440 0h160v-160H620v160Z\"/>\n",
              "  </svg>\n",
              "    </button>\n",
              "\n",
              "  <style>\n",
              "    .colab-df-container {\n",
              "      display:flex;\n",
              "      gap: 12px;\n",
              "    }\n",
              "\n",
              "    .colab-df-convert {\n",
              "      background-color: #E8F0FE;\n",
              "      border: none;\n",
              "      border-radius: 50%;\n",
              "      cursor: pointer;\n",
              "      display: none;\n",
              "      fill: #1967D2;\n",
              "      height: 32px;\n",
              "      padding: 0 0 0 0;\n",
              "      width: 32px;\n",
              "    }\n",
              "\n",
              "    .colab-df-convert:hover {\n",
              "      background-color: #E2EBFA;\n",
              "      box-shadow: 0px 1px 2px rgba(60, 64, 67, 0.3), 0px 1px 3px 1px rgba(60, 64, 67, 0.15);\n",
              "      fill: #174EA6;\n",
              "    }\n",
              "\n",
              "    .colab-df-buttons div {\n",
              "      margin-bottom: 4px;\n",
              "    }\n",
              "\n",
              "    [theme=dark] .colab-df-convert {\n",
              "      background-color: #3B4455;\n",
              "      fill: #D2E3FC;\n",
              "    }\n",
              "\n",
              "    [theme=dark] .colab-df-convert:hover {\n",
              "      background-color: #434B5C;\n",
              "      box-shadow: 0px 1px 3px 1px rgba(0, 0, 0, 0.15);\n",
              "      filter: drop-shadow(0px 1px 2px rgba(0, 0, 0, 0.3));\n",
              "      fill: #FFFFFF;\n",
              "    }\n",
              "  </style>\n",
              "\n",
              "    <script>\n",
              "      const buttonEl =\n",
              "        document.querySelector('#df-5fefc852-d9c7-4666-a85a-79fc12a022ae button.colab-df-convert');\n",
              "      buttonEl.style.display =\n",
              "        google.colab.kernel.accessAllowed ? 'block' : 'none';\n",
              "\n",
              "      async function convertToInteractive(key) {\n",
              "        const element = document.querySelector('#df-5fefc852-d9c7-4666-a85a-79fc12a022ae');\n",
              "        const dataTable =\n",
              "          await google.colab.kernel.invokeFunction('convertToInteractive',\n",
              "                                                    [key], {});\n",
              "        if (!dataTable) return;\n",
              "\n",
              "        const docLinkHtml = 'Like what you see? Visit the ' +\n",
              "          '<a target=\"_blank\" href=https://colab.research.google.com/notebooks/data_table.ipynb>data table notebook</a>'\n",
              "          + ' to learn more about interactive tables.';\n",
              "        element.innerHTML = '';\n",
              "        dataTable['output_type'] = 'display_data';\n",
              "        await google.colab.output.renderOutput(dataTable, element);\n",
              "        const docLink = document.createElement('div');\n",
              "        docLink.innerHTML = docLinkHtml;\n",
              "        element.appendChild(docLink);\n",
              "      }\n",
              "    </script>\n",
              "  </div>\n",
              "\n",
              "\n",
              "<div id=\"df-4cc33315-85b6-48f8-9251-be919e412679\">\n",
              "  <button class=\"colab-df-quickchart\" onclick=\"quickchart('df-4cc33315-85b6-48f8-9251-be919e412679')\"\n",
              "            title=\"Suggest charts\"\n",
              "            style=\"display:none;\">\n",
              "\n",
              "<svg xmlns=\"http://www.w3.org/2000/svg\" height=\"24px\"viewBox=\"0 0 24 24\"\n",
              "     width=\"24px\">\n",
              "    <g>\n",
              "        <path d=\"M19 3H5c-1.1 0-2 .9-2 2v14c0 1.1.9 2 2 2h14c1.1 0 2-.9 2-2V5c0-1.1-.9-2-2-2zM9 17H7v-7h2v7zm4 0h-2V7h2v10zm4 0h-2v-4h2v4z\"/>\n",
              "    </g>\n",
              "</svg>\n",
              "  </button>\n",
              "\n",
              "<style>\n",
              "  .colab-df-quickchart {\n",
              "      --bg-color: #E8F0FE;\n",
              "      --fill-color: #1967D2;\n",
              "      --hover-bg-color: #E2EBFA;\n",
              "      --hover-fill-color: #174EA6;\n",
              "      --disabled-fill-color: #AAA;\n",
              "      --disabled-bg-color: #DDD;\n",
              "  }\n",
              "\n",
              "  [theme=dark] .colab-df-quickchart {\n",
              "      --bg-color: #3B4455;\n",
              "      --fill-color: #D2E3FC;\n",
              "      --hover-bg-color: #434B5C;\n",
              "      --hover-fill-color: #FFFFFF;\n",
              "      --disabled-bg-color: #3B4455;\n",
              "      --disabled-fill-color: #666;\n",
              "  }\n",
              "\n",
              "  .colab-df-quickchart {\n",
              "    background-color: var(--bg-color);\n",
              "    border: none;\n",
              "    border-radius: 50%;\n",
              "    cursor: pointer;\n",
              "    display: none;\n",
              "    fill: var(--fill-color);\n",
              "    height: 32px;\n",
              "    padding: 0;\n",
              "    width: 32px;\n",
              "  }\n",
              "\n",
              "  .colab-df-quickchart:hover {\n",
              "    background-color: var(--hover-bg-color);\n",
              "    box-shadow: 0 1px 2px rgba(60, 64, 67, 0.3), 0 1px 3px 1px rgba(60, 64, 67, 0.15);\n",
              "    fill: var(--button-hover-fill-color);\n",
              "  }\n",
              "\n",
              "  .colab-df-quickchart-complete:disabled,\n",
              "  .colab-df-quickchart-complete:disabled:hover {\n",
              "    background-color: var(--disabled-bg-color);\n",
              "    fill: var(--disabled-fill-color);\n",
              "    box-shadow: none;\n",
              "  }\n",
              "\n",
              "  .colab-df-spinner {\n",
              "    border: 2px solid var(--fill-color);\n",
              "    border-color: transparent;\n",
              "    border-bottom-color: var(--fill-color);\n",
              "    animation:\n",
              "      spin 1s steps(1) infinite;\n",
              "  }\n",
              "\n",
              "  @keyframes spin {\n",
              "    0% {\n",
              "      border-color: transparent;\n",
              "      border-bottom-color: var(--fill-color);\n",
              "      border-left-color: var(--fill-color);\n",
              "    }\n",
              "    20% {\n",
              "      border-color: transparent;\n",
              "      border-left-color: var(--fill-color);\n",
              "      border-top-color: var(--fill-color);\n",
              "    }\n",
              "    30% {\n",
              "      border-color: transparent;\n",
              "      border-left-color: var(--fill-color);\n",
              "      border-top-color: var(--fill-color);\n",
              "      border-right-color: var(--fill-color);\n",
              "    }\n",
              "    40% {\n",
              "      border-color: transparent;\n",
              "      border-right-color: var(--fill-color);\n",
              "      border-top-color: var(--fill-color);\n",
              "    }\n",
              "    60% {\n",
              "      border-color: transparent;\n",
              "      border-right-color: var(--fill-color);\n",
              "    }\n",
              "    80% {\n",
              "      border-color: transparent;\n",
              "      border-right-color: var(--fill-color);\n",
              "      border-bottom-color: var(--fill-color);\n",
              "    }\n",
              "    90% {\n",
              "      border-color: transparent;\n",
              "      border-bottom-color: var(--fill-color);\n",
              "    }\n",
              "  }\n",
              "</style>\n",
              "\n",
              "  <script>\n",
              "    async function quickchart(key) {\n",
              "      const quickchartButtonEl =\n",
              "        document.querySelector('#' + key + ' button');\n",
              "      quickchartButtonEl.disabled = true;  // To prevent multiple clicks.\n",
              "      quickchartButtonEl.classList.add('colab-df-spinner');\n",
              "      try {\n",
              "        const charts = await google.colab.kernel.invokeFunction(\n",
              "            'suggestCharts', [key], {});\n",
              "      } catch (error) {\n",
              "        console.error('Error during call to suggestCharts:', error);\n",
              "      }\n",
              "      quickchartButtonEl.classList.remove('colab-df-spinner');\n",
              "      quickchartButtonEl.classList.add('colab-df-quickchart-complete');\n",
              "    }\n",
              "    (() => {\n",
              "      let quickchartButtonEl =\n",
              "        document.querySelector('#df-4cc33315-85b6-48f8-9251-be919e412679 button');\n",
              "      quickchartButtonEl.style.display =\n",
              "        google.colab.kernel.accessAllowed ? 'block' : 'none';\n",
              "    })();\n",
              "  </script>\n",
              "</div>\n",
              "    </div>\n",
              "  </div>\n"
            ]
          },
          "metadata": {},
          "execution_count": 146
        }
      ]
    },
    {
      "cell_type": "code",
      "source": [
        "data.info()\n",
        "print()\n",
        "data.shape"
      ],
      "metadata": {
        "colab": {
          "base_uri": "https://localhost:8080/"
        },
        "id": "HwDAZrgittKi",
        "outputId": "845a8e13-fad9-41eb-d3f1-14dfc280ad0d"
      },
      "execution_count": 147,
      "outputs": [
        {
          "output_type": "stream",
          "name": "stdout",
          "text": [
            "<class 'pandas.core.frame.DataFrame'>\n",
            "RangeIndex: 348 entries, 0 to 347\n",
            "Data columns (total 74 columns):\n",
            " #   Column                        Non-Null Count  Dtype         \n",
            "---  ------                        --------------  -----         \n",
            " 0   linkedinProfile               348 non-null    object        \n",
            " 1   Result                        348 non-null    object        \n",
            " 2   Other                         191 non-null    object        \n",
            " 3   email                         216 non-null    object        \n",
            " 4   description                   278 non-null    object        \n",
            " 5   headline                      348 non-null    object        \n",
            " 6   location                      348 non-null    object        \n",
            " 7   firstName                     348 non-null    object        \n",
            " 8   lastName                      348 non-null    object        \n",
            " 9   fullName                      348 non-null    object        \n",
            " 10  subscribers                   347 non-null    float64       \n",
            " 11  userId                        289 non-null    float64       \n",
            " 12  mutualConnectionsText         4 non-null      object        \n",
            " 13  mailFromDropcontact           154 non-null    object        \n",
            " 14  company                       346 non-null    object        \n",
            " 15  companyUrl                    263 non-null    object        \n",
            " 16  jobTitle                      347 non-null    object        \n",
            " 17  jobDescription                169 non-null    object        \n",
            " 18  jobLocation                   215 non-null    object        \n",
            " 19  jobDateRange                  342 non-null    object        \n",
            " 20  company2                      335 non-null    object        \n",
            " 21  companyUrl2                   236 non-null    object        \n",
            " 22  jobTitle2                     335 non-null    object        \n",
            " 23  jobDescription2               183 non-null    object        \n",
            " 24  jobDateRange2                 332 non-null    object        \n",
            " 25  school                        328 non-null    object        \n",
            " 26  schoolUrl                     275 non-null    object        \n",
            " 27  schoolDegree                  267 non-null    object        \n",
            " 28  schoolDegreeSpec              227 non-null    object        \n",
            " 29  schoolDateRange               287 non-null    object        \n",
            " 30  school2                       208 non-null    object        \n",
            " 31  schoolUrl2                    164 non-null    object        \n",
            " 32  schoolDegree2                 156 non-null    object        \n",
            " 33  schoolDegreeSpec2             143 non-null    object        \n",
            " 34  schoolDateRange2              177 non-null    object        \n",
            " 35  qualificationFromDropContact  154 non-null    object        \n",
            " 36  civilityFromDropContact       277 non-null    object        \n",
            " 37  phoneNumberFromDropContact    104 non-null    object        \n",
            " 38  websiteFromDropContact        323 non-null    object        \n",
            " 39  twitter                       142 non-null    object        \n",
            " 40  website                       205 non-null    object        \n",
            " 41  companyWebsite                247 non-null    object        \n",
            " 42  allSkills                     330 non-null    object        \n",
            " 43  skill1                        330 non-null    object        \n",
            " 44  endorsement1                  329 non-null    object        \n",
            " 45  skill2                        330 non-null    object        \n",
            " 46  endorsement2                  329 non-null    object        \n",
            " 47  skill3                        330 non-null    object        \n",
            " 48  endorsement3                  329 non-null    object        \n",
            " 49  skill4                        330 non-null    object        \n",
            " 50  endorsement4                  329 non-null    object        \n",
            " 51  skill5                        329 non-null    object        \n",
            " 52  endorsement5                  329 non-null    object        \n",
            " 53  skill6                        326 non-null    object        \n",
            " 54  endorsement6                  326 non-null    object        \n",
            " 55  baseUrl                       348 non-null    object        \n",
            " 56  profileId                     348 non-null    object        \n",
            " 57  timestamp                     348 non-null    object        \n",
            " 58  jobLocation2                  246 non-null    object        \n",
            " 59  connectionsCount              50 non-null     float64       \n",
            " 60  mail                          3 non-null      object        \n",
            " 61  birthday                      95 non-null     datetime64[ns]\n",
            " 62  schoolDescription2            44 non-null     object        \n",
            " 63  naf5CodeFromDropContact       16 non-null     object        \n",
            " 64  naf5DesFromDropContact        14 non-null     object        \n",
            " 65  sirenFromDropContact          16 non-null     float64       \n",
            " 66  siretFromDropContact          16 non-null     float64       \n",
            " 67  siretAddressFromDropContact   15 non-null     object        \n",
            " 68  siretZipFromDropContact       15 non-null     float64       \n",
            " 69  vatFromDropContact            16 non-null     object        \n",
            " 70  schoolDescription             64 non-null     object        \n",
            " 71  nbEmployeesFromDropContact    12 non-null     object        \n",
            " 72  Unnamed: 72                   0 non-null      float64       \n",
            " 73  Unnamed: 73                   62 non-null     object        \n",
            "dtypes: datetime64[ns](1), float64(7), object(66)\n",
            "memory usage: 201.3+ KB\n",
            "\n"
          ]
        },
        {
          "output_type": "execute_result",
          "data": {
            "text/plain": [
              "(348, 74)"
            ]
          },
          "metadata": {},
          "execution_count": 147
        }
      ]
    },
    {
      "cell_type": "code",
      "source": [
        "#searching missing values\n",
        "display(data.isna().sum().sort_values(ascending=True))\n",
        "\n"
      ],
      "metadata": {
        "colab": {
          "base_uri": "https://localhost:8080/",
          "height": 231
        },
        "id": "w-XD96Oowfqs",
        "outputId": "f5599837-8cff-4cb2-e9c0-cae72e72f897"
      },
      "execution_count": 148,
      "outputs": [
        {
          "output_type": "display_data",
          "data": {
            "text/plain": [
              "linkedinProfile                 0\n",
              "fullName                        0\n",
              "lastName                        0\n",
              "firstName                       0\n",
              "location                        0\n",
              "                             ... \n",
              "naf5DesFromDropContact        334\n",
              "nbEmployeesFromDropContact    336\n",
              "mutualConnectionsText         344\n",
              "mail                          345\n",
              "Unnamed: 72                   348\n",
              "Length: 74, dtype: int64"
            ]
          },
          "metadata": {}
        }
      ]
    },
    {
      "cell_type": "code",
      "source": [],
      "metadata": {
        "id": "nwfzlSNuBFoZ"
      },
      "execution_count": 148,
      "outputs": []
    },
    {
      "cell_type": "markdown",
      "source": [
        "The main points like result and linkedinProfile have no empty also name"
      ],
      "metadata": {
        "id": "6ZU-kQdfBNVR"
      }
    },
    {
      "cell_type": "code",
      "source": [
        "#findings duplicates\n",
        "data.duplicated().sum()"
      ],
      "metadata": {
        "colab": {
          "base_uri": "https://localhost:8080/"
        },
        "id": "Amt5PqpO0MMW",
        "outputId": "ad363d99-b624-4fa2-b12a-f85b684ff0b8"
      },
      "execution_count": 149,
      "outputs": [
        {
          "output_type": "execute_result",
          "data": {
            "text/plain": [
              "0"
            ]
          },
          "metadata": {},
          "execution_count": 149
        }
      ]
    },
    {
      "cell_type": "markdown",
      "source": [
        "no duplicate on dataset"
      ],
      "metadata": {
        "id": "UrCsgO63BkwN"
      }
    },
    {
      "cell_type": "markdown",
      "source": [],
      "metadata": {
        "id": "3LoYWe0HBj6h"
      }
    },
    {
      "cell_type": "code",
      "source": [
        "display(data.head)"
      ],
      "metadata": {
        "colab": {
          "base_uri": "https://localhost:8080/",
          "height": 1000
        },
        "id": "_rhITdp3i_U3",
        "outputId": "78192e9d-51fc-4302-acf7-9c4714fa90a9"
      },
      "execution_count": 150,
      "outputs": [
        {
          "output_type": "display_data",
          "data": {
            "text/plain": [
              "<bound method NDFrame.head of                                        linkedinProfile  \\\n",
              "0      https://www.linkedin.com/in/mark-kohoot-96a08b1   \n",
              "1              https://www.linkedin.com/in/jonbowerman   \n",
              "2             https://www.linkedin.com/in/parkeralynch   \n",
              "3            https://www.linkedin.com/in/shacharschiff   \n",
              "4    https://www.linkedin.com/in/gary-lacourt-811b1874   \n",
              "..                                                 ...   \n",
              "343        https://www.linkedin.com/in/maeganscarlett/   \n",
              "344          https://www.linkedin.com/in/magic-marcus/   \n",
              "345             https://www.linkedin.com/in/marcuswax/   \n",
              "346  https://www.linkedin.com/in/margaret-conger-50...   \n",
              "347  https://www.linkedin.com/in/matthew-d-lando-72...   \n",
              "\n",
              "                      Result   Other                              email  \\\n",
              "0    5. Purchased Membership  Hunter                   mk@aeroscena.com   \n",
              "1    5. Purchased Membership  Hunter                   jon@kidsdraw.org   \n",
              "2    5. Purchased Membership  Hunter          Parker@HedgeHogHealth.com   \n",
              "3    5. Purchased Membership  Hunter             shachar@badtesting.com   \n",
              "4          4.Purchased Event  Hunter  gary.lacourt@forevercompanies.com   \n",
              "..                       ...     ...                                ...   \n",
              "343              2021 Member     NaN                 maegan@overtone.co   \n",
              "344              2021 Member     NaN                marcus@magic.agency   \n",
              "345              2021 Member     NaN                                NaN   \n",
              "346              2021 Member     NaN       margaret.conger@biocidin.com   \n",
              "347              2021 Member     NaN                                NaN   \n",
              "\n",
              "                                           description  \\\n",
              "0    Mark founded Aeroscena in 2010 with the missio...   \n",
              "1    A creative problem solver who can rapidly desi...   \n",
              "2                                                  NaN   \n",
              "3    I'm the founder and principal consultant at Ba...   \n",
              "4    Serial entrepreneur and business founder. Main...   \n",
              "..                                                 ...   \n",
              "343                                                NaN   \n",
              "344  If digital marketing didn't have real-world co...   \n",
              "345  I am a versatile entrepreneur and manager with...   \n",
              "346                                                NaN   \n",
              "347  Multi business owner with a demonstrated histo...   \n",
              "\n",
              "                                              headline  \\\n",
              "0            Bio-pharmaceutical / functional fragrance   \n",
              "1    Co Founder and CTO - Product Development and M...   \n",
              "2    CEO at HedgeHog Health | 2020-2021 Global Educ...   \n",
              "3    I believe that high-quality, powerful software...   \n",
              "4                   Founder and CEO, Forever Companies   \n",
              "..                                                 ...   \n",
              "343  Co-Founder of oVertone | Angel investor | Obse...   \n",
              "344  CEO of Magic: We Use Resonance Marketing to Sc...   \n",
              "345                    Projects, projects, projects...   \n",
              "346          Clinical Consultant & Account Specialist    \n",
              "347            Founder and CEO at Gulf Shore Logistics   \n",
              "\n",
              "                                  location firstName  lastName  \\\n",
              "0           Cleveland, Ohio, United States      Mark    Kohoot   \n",
              "1      Farmington, Michigan, United States       Jon  Bowerman   \n",
              "2       Royal Oak, Michigan, United States    Parker     Lynch   \n",
              "3              Dallas-Fort Worth Metroplex   Shachar    Schiff   \n",
              "4      Milwaukee, Wisconsin, United States      Gary   LaCourt   \n",
              "..                                     ...       ...       ...   \n",
              "343        Denver, Colorado, United States    Maegan  Scarlett   \n",
              "344       Boulder, Colorado, United States    Marcus   McNeill   \n",
              "345  Fort Collins, Colorado, United States    Marcus       Wax   \n",
              "346        Golden, Colorado, United States  Margaret   Conger    \n",
              "347   Delray Beach, Florida, United States   Matthew   D'Lando   \n",
              "\n",
              "             fullName  ...  naf5DesFromDropContact  sirenFromDropContact  \\\n",
              "0         Mark Kohoot  ...                     NaN                   NaN   \n",
              "1        Jon Bowerman  ...                     NaN                   NaN   \n",
              "2        Parker Lynch  ...                     NaN                   NaN   \n",
              "3      Shachar Schiff  ...                     NaN                   NaN   \n",
              "4        Gary LaCourt  ...                     NaN                   NaN   \n",
              "..                ...  ...                     ...                   ...   \n",
              "343   Maegan Scarlett  ...                     NaN                   NaN   \n",
              "344    Marcus McNeill  ...                     NaN                   NaN   \n",
              "345        Marcus Wax  ...                     NaN                   NaN   \n",
              "346  Margaret Conger   ...                     NaN                   NaN   \n",
              "347   Matthew D'Lando  ...                     NaN                   NaN   \n",
              "\n",
              "    siretFromDropContact siretAddressFromDropContact siretZipFromDropContact  \\\n",
              "0                    NaN                         NaN                     NaN   \n",
              "1                    NaN                         NaN                     NaN   \n",
              "2                    NaN                         NaN                     NaN   \n",
              "3                    NaN                         NaN                     NaN   \n",
              "4                    NaN                         NaN                     NaN   \n",
              "..                   ...                         ...                     ...   \n",
              "343                  NaN                         NaN                     NaN   \n",
              "344                  NaN                         NaN                     NaN   \n",
              "345                  NaN                         NaN                     NaN   \n",
              "346                  NaN                         NaN                     NaN   \n",
              "347                  NaN                         NaN                     NaN   \n",
              "\n",
              "    vatFromDropContact schoolDescription nbEmployeesFromDropContact  \\\n",
              "0                  NaN               NaN                        NaN   \n",
              "1                  NaN               NaN                        NaN   \n",
              "2                  NaN               NaN                        NaN   \n",
              "3                  NaN               NaN                        NaN   \n",
              "4                  NaN               NaN                        NaN   \n",
              "..                 ...               ...                        ...   \n",
              "343                NaN               NaN                        NaN   \n",
              "344                NaN               NaN        2023-03-05 00:00:00   \n",
              "345                NaN               NaN                        NaN   \n",
              "346                NaN               NaN                        NaN   \n",
              "347                NaN               NaN                        NaN   \n",
              "\n",
              "    Unnamed: 72                   Unnamed: 73  \n",
              "0           NaN                           NaN  \n",
              "1           NaN                           NaN  \n",
              "2           NaN                           NaN  \n",
              "3           NaN                           NaN  \n",
              "4           NaN                           NaN  \n",
              "..          ...                           ...  \n",
              "343         NaN            maegan@overtone.co  \n",
              "344         NaN           marcus@magic.agency  \n",
              "345         NaN                           NaN  \n",
              "346         NaN  margaret.conger@biocidin.com  \n",
              "347         NaN                           NaN  \n",
              "\n",
              "[348 rows x 74 columns]>"
            ]
          },
          "metadata": {}
        }
      ]
    },
    {
      "cell_type": "code",
      "source": [
        "#name columns lower\n",
        "#data = data.rename(columns={'Result': 'result', 'Other': 'other','firstName': 'first_name'})\n",
        "data.columns = map(str.lower, data.columns)"
      ],
      "metadata": {
        "id": "yGg6T3lzoW5i"
      },
      "execution_count": 151,
      "outputs": []
    },
    {
      "cell_type": "markdown",
      "source": [
        "Seeking the main criterion 'result'"
      ],
      "metadata": {
        "id": "TYXdznHAqLTi"
      }
    },
    {
      "cell_type": "code",
      "source": [
        "#main point is result lets focuse on it\n",
        "data.value_counts('result')"
      ],
      "metadata": {
        "colab": {
          "base_uri": "https://localhost:8080/"
        },
        "id": "1RKTDYXdj75c",
        "outputId": "20c9c903-f9d7-4c85-b8f3-e75412e7f849"
      },
      "execution_count": 152,
      "outputs": [
        {
          "output_type": "execute_result",
          "data": {
            "text/plain": [
              "result\n",
              "2021 Member                157\n",
              "2. Sent Personal f/u       127\n",
              "3. Approved                 28\n",
              "Out of Sequence             26\n",
              "4.Purchased Event            6\n",
              "5. Purchased Membership      4\n",
              "dtype: int64"
            ]
          },
          "metadata": {},
          "execution_count": 152
        }
      ]
    },
    {
      "cell_type": "code",
      "source": [],
      "metadata": {
        "id": "TUw3RlV6kRf9"
      },
      "execution_count": 152,
      "outputs": []
    },
    {
      "cell_type": "code",
      "source": [
        "data['result'].hist(bins=6,range = (0,10));\n",
        "plt.xticks(rotation = 45);"
      ],
      "metadata": {
        "colab": {
          "base_uri": "https://localhost:8080/",
          "height": 553
        },
        "id": "RGEXgxj4u5B8",
        "outputId": "03e390dc-f67d-4439-c4c0-c5d29e6ed165"
      },
      "execution_count": 153,
      "outputs": [
        {
          "output_type": "display_data",
          "data": {
            "text/plain": [
              "<Figure size 640x480 with 1 Axes>"
            ],
            "image/png": "[encoded data removed]"
          },
          "metadata": {}
        }
      ]
    },
    {
      "cell_type": "markdown",
      "source": [
        "Only 4 positive result wtih higher result, lets check what users and patterns of em\n",
        "\n",
        "sentpersonalf/u and 2021 member are most popular result"
      ],
      "metadata": {
        "id": "Elga5a5ovxx9"
      }
    },
    {
      "cell_type": "code",
      "source": [],
      "metadata": {
        "id": "LEVexGlI9Ult"
      },
      "execution_count": 153,
      "outputs": []
    },
    {
      "cell_type": "markdown",
      "source": [
        "##positive result"
      ],
      "metadata": {
        "id": "AVtfzeEL2kmq"
      }
    },
    {
      "cell_type": "code",
      "source": [
        "positive_result = data.query('result==\"5. Purchased Membership\" or result==\"4.Purchased Event\"')\n",
        "print(positive_result)\n"
      ],
      "metadata": {
        "colab": {
          "base_uri": "https://localhost:8080/"
        },
        "id": "JBZYggod3NlC",
        "outputId": "b6520ef0-7d01-4b4b-8fd7-dcf5e36a4356"
      },
      "execution_count": 154,
      "outputs": [
        {
          "output_type": "stream",
          "name": "stdout",
          "text": [
            "                                     linkedinprofile                   result  \\\n",
            "0    https://www.linkedin.com/in/mark-kohoot-96a08b1  5. Purchased Membership   \n",
            "1            https://www.linkedin.com/in/jonbowerman  5. Purchased Membership   \n",
            "2           https://www.linkedin.com/in/parkeralynch  5. Purchased Membership   \n",
            "3          https://www.linkedin.com/in/shacharschiff  5. Purchased Membership   \n",
            "4  https://www.linkedin.com/in/gary-lacourt-811b1874        4.Purchased Event   \n",
            "5  https://www.linkedin.com/in/lyle-stoflet-38a07ab8        4.Purchased Event   \n",
            "6          https://www.linkedin.com/in/whiteandrewdc        4.Purchased Event   \n",
            "7           https://www.linkedin.com/in/donniemcfall        4.Purchased Event   \n",
            "8                https://www.linkedin.com/in/sykraft        4.Purchased Event   \n",
            "9      https://www.linkedin.com/in/alan-dahl-2a6781b        4.Purchased Event   \n",
            "\n",
            "    other                              email  \\\n",
            "0  Hunter                   mk@aeroscena.com   \n",
            "1  Hunter                   jon@kidsdraw.org   \n",
            "2  Hunter          Parker@HedgeHogHealth.com   \n",
            "3  Hunter             shachar@badtesting.com   \n",
            "4  Hunter  gary.lacourt@forevercompanies.com   \n",
            "5  Hunter      stoflet@stratusindustries.com   \n",
            "6  Hunter                                NaN   \n",
            "7  Hunter                                NaN   \n",
            "8  Hollis                     sy@sykraft.com   \n",
            "9  Hollis                                NaN   \n",
            "\n",
            "                                         description  \\\n",
            "0  Mark founded Aeroscena in 2010 with the missio...   \n",
            "1  A creative problem solver who can rapidly desi...   \n",
            "2                                                NaN   \n",
            "3  I'm the founder and principal consultant at Ba...   \n",
            "4  Serial entrepreneur and business founder. Main...   \n",
            "5  Whatâ€™s to love about our design products?\\n\\...   \n",
            "6  Helping families and individuals reach their G...   \n",
            "7                                                NaN   \n",
            "8  I untie knots and as a brand building professi...   \n",
            "9                                                NaN   \n",
            "\n",
            "                                            headline  \\\n",
            "0          Bio-pharmaceutical / functional fragrance   \n",
            "1  Co Founder and CTO - Product Development and M...   \n",
            "2  CEO at HedgeHog Health | 2020-2021 Global Educ...   \n",
            "3  I believe that high-quality, powerful software...   \n",
            "4                 Founder and CEO, Forever Companies   \n",
            "5  Managing Partner at Stratus Industries / Gear ...   \n",
            "6                             Founder at Align & Co.   \n",
            "7  Owner at McFall Consulting, Co-Founder at The ...   \n",
            "8                        Founder of Fantastic Brands   \n",
            "9                        Director, Advisor, Investor   \n",
            "\n",
            "                                location firstname     lastname  \\\n",
            "0         Cleveland, Ohio, United States      Mark       Kohoot   \n",
            "1    Farmington, Michigan, United States       Jon     Bowerman   \n",
            "2     Royal Oak, Michigan, United States    Parker        Lynch   \n",
            "3            Dallas-Fort Worth Metroplex   Shachar       Schiff   \n",
            "4    Milwaukee, Wisconsin, United States      Gary      LaCourt   \n",
            "5    Milwaukee, Wisconsin, United States      Lyle      Stoflet   \n",
            "6       Holland, Michigan, United States    Andrew  White, D.C.   \n",
            "7  Minneapolis, Minnesota, United States    Donnie       McFall   \n",
            "8          Los Angeles Metropolitan Area        Sy        Kraft   \n",
            "9              Atlanta Metropolitan Area      Alan         Dahl   \n",
            "\n",
            "             fullname  ...  naf5desfromdropcontact  sirenfromdropcontact  \\\n",
            "0         Mark Kohoot  ...                     NaN                   NaN   \n",
            "1        Jon Bowerman  ...                     NaN                   NaN   \n",
            "2        Parker Lynch  ...                     NaN                   NaN   \n",
            "3      Shachar Schiff  ...                     NaN                   NaN   \n",
            "4        Gary LaCourt  ...                     NaN                   NaN   \n",
            "5        Lyle Stoflet  ...                     NaN                   NaN   \n",
            "6  Andrew White, D.C.  ...       Pratique dentaire           829994987.0   \n",
            "7       Donnie McFall  ...                     NaN                   NaN   \n",
            "8            Sy Kraft  ...                     NaN                   NaN   \n",
            "9           Alan Dahl  ...                     NaN                   NaN   \n",
            "\n",
            "  siretfromdropcontact siretaddressfromdropcontact siretzipfromdropcontact  \\\n",
            "0                  NaN                         NaN                     NaN   \n",
            "1                  NaN                         NaN                     NaN   \n",
            "2                  NaN                         NaN                     NaN   \n",
            "3                  NaN                         NaN                     NaN   \n",
            "4                  NaN                         NaN                     NaN   \n",
            "5                  NaN                         NaN                     NaN   \n",
            "6         8.300000e+13            5 Avenue Pasteur                 17400.0   \n",
            "7                  NaN                         NaN                     NaN   \n",
            "8                  NaN                         NaN                     NaN   \n",
            "9                  NaN                         NaN                     NaN   \n",
            "\n",
            "  vatfromdropcontact                                  schooldescription  \\\n",
            "0                NaN                                                NaN   \n",
            "1                NaN                                                NaN   \n",
            "2                NaN                                                NaN   \n",
            "3                NaN                                                NaN   \n",
            "4                NaN                                                NaN   \n",
            "5                NaN                                                NaN   \n",
            "6      FR17829994987                                                NaN   \n",
            "7                NaN                                                NaN   \n",
            "8                NaN  Volunteer:  Alzheimerâ€™s Association of the L...   \n",
            "9                NaN                                                NaN   \n",
            "\n",
            "  nbemployeesfromdropcontact unnamed: 72 unnamed: 73  \n",
            "0                        NaN         NaN         NaN  \n",
            "1                        NaN         NaN         NaN  \n",
            "2                        NaN         NaN         NaN  \n",
            "3                        NaN         NaN         NaN  \n",
            "4                        NaN         NaN         NaN  \n",
            "5                        NaN         NaN         NaN  \n",
            "6                        NaN         NaN         NaN  \n",
            "7                        NaN         NaN         NaN  \n",
            "8                        NaN         NaN         NaN  \n",
            "9                        NaN         NaN         NaN  \n",
            "\n",
            "[10 rows x 74 columns]\n"
          ]
        }
      ]
    },
    {
      "cell_type": "markdown",
      "source": [
        "How subscribers affect on reason"
      ],
      "metadata": {
        "id": "cOVzh63ntQXy"
      }
    },
    {
      "cell_type": "code",
      "source": [
        "sub_index = data.pivot_table(index =['result'], values='subscribers')\n",
        "\n",
        "seaborn.heatmap(data = sub_index,cmap='PuBuGn')\n",
        "\n",
        "print(sub_index)\n"
      ],
      "metadata": {
        "id": "3sQSd4iT4Qd9",
        "colab": {
          "base_uri": "https://localhost:8080/",
          "height": 573
        },
        "outputId": "9205b38b-2029-42ec-ccba-f27fc8925077"
      },
      "execution_count": 167,
      "outputs": [
        {
          "output_type": "stream",
          "name": "stdout",
          "text": [
            "                         subscribers\n",
            "result                              \n",
            "2. Sent Personal f/u     2825.732283\n",
            "2021 Member              2621.121795\n",
            "3. Approved              2931.964286\n",
            "4.Purchased Event        2892.166667\n",
            "5. Purchased Membership  1923.500000\n",
            "Out of Sequence          1335.653846\n"
          ]
        },
        {
          "output_type": "display_data",
          "data": {
            "text/plain": [
              "<Figure size 640x480 with 2 Axes>"
            ],
            "image/png": "[encoded data removed]"
          },
          "metadata": {}
        }
      ]
    },
    {
      "cell_type": "markdown",
      "source": [
        "There is no such dependence from subscribers\n",
        "\n"
      ],
      "metadata": {
        "id": "fc76l2Aqt6Gx"
      }
    },
    {
      "cell_type": "markdown",
      "source": [
        "\n",
        "\n"
      ],
      "metadata": {
        "id": "ErpSHeSVv5ua"
      }
    },
    {
      "cell_type": "code",
      "source": [
        "#check date of event maybe its sale or etc.\n",
        "data['purchase_date'] = pd.to_datetime(data['timestamp'], format='%Y-%m-%d')\n",
        "data['purchase_month']  = data['purchase_date'].dt.month\n",
        "data['purchase_day']  = data['purchase_date'].dt.day"
      ],
      "metadata": {
        "id": "ueBv-ayfxOCH"
      },
      "execution_count": 156,
      "outputs": []
    },
    {
      "cell_type": "code",
      "source": [
        "print('month count only',data['purchase_month'].nunique())\n",
        "print('day count only',data['purchase_day'].nunique())"
      ],
      "metadata": {
        "colab": {
          "base_uri": "https://localhost:8080/"
        },
        "id": "3AuyLKBL9ma0",
        "outputId": "cb7b70b9-fdaa-4450-a49c-2c6d38003bd1"
      },
      "execution_count": 157,
      "outputs": [
        {
          "output_type": "stream",
          "name": "stdout",
          "text": [
            "month count only 1\n",
            "day count only 2\n"
          ]
        }
      ]
    },
    {
      "cell_type": "markdown",
      "source": [
        "Only one month or day show in data, there is no way to check more"
      ],
      "metadata": {
        "id": "vinRFnNu_DVd"
      }
    },
    {
      "cell_type": "markdown",
      "source": [
        "How cicivility affect  on result"
      ],
      "metadata": {
        "id": "5jYz3xSY_CuU"
      }
    },
    {
      "cell_type": "code",
      "source": [
        "print(data['civilityfromdropcontact'].value_counts())"
      ],
      "metadata": {
        "colab": {
          "base_uri": "https://localhost:8080/"
        },
        "id": "ao7A9u_uEMg0",
        "outputId": "818b2770-a532-40ac-da74-df543e300dd8"
      },
      "execution_count": 158,
      "outputs": [
        {
          "output_type": "stream",
          "name": "stdout",
          "text": [
            "Mr     214\n",
            "Mrs     63\n",
            "Name: civilityfromdropcontact, dtype: int64\n"
          ]
        }
      ]
    },
    {
      "cell_type": "code",
      "source": [
        "by_civility = data.groupby(['civilityfromdropcontact','result'])['result'].count().sort_values()\n",
        "\n",
        "by_civility"
      ],
      "metadata": {
        "colab": {
          "base_uri": "https://localhost:8080/"
        },
        "id": "aEVJk2GP-7Me",
        "outputId": "a425b8bf-e1a1-4f18-8bdf-cbe6635677b4"
      },
      "execution_count": 159,
      "outputs": [
        {
          "output_type": "execute_result",
          "data": {
            "text/plain": [
              "civilityfromdropcontact  result                 \n",
              "Mr                       5. Purchased Membership     4\n",
              "Mrs                      Out of Sequence             4\n",
              "Mr                       4.Purchased Event           6\n",
              "Mrs                      3. Approved                10\n",
              "Mr                       3. Approved                17\n",
              "                         Out of Sequence            18\n",
              "Mrs                      2021 Member                19\n",
              "                         2. Sent Personal f/u       30\n",
              "Mr                       2021 Member                77\n",
              "                         2. Sent Personal f/u       92\n",
              "Name: result, dtype: int64"
            ]
          },
          "metadata": {},
          "execution_count": 159
        }
      ]
    },
    {
      "cell_type": "markdown",
      "source": [
        "Only men show ideal results; however, there are more men than women in dataset also  no result"
      ],
      "metadata": {
        "id": "hYgHASQtEcwG"
      }
    },
    {
      "cell_type": "markdown",
      "source": [
        "Check birthday ia any wrong with this column"
      ],
      "metadata": {
        "id": "k12VrtN6vJxE"
      }
    },
    {
      "cell_type": "code",
      "source": [
        "birthday = data[data[['birthday']].notnull().all(1)]\n",
        "birthday['birthday']"
      ],
      "metadata": {
        "colab": {
          "base_uri": "https://localhost:8080/"
        },
        "id": "2qMjXxPFuJQF",
        "outputId": "ea9b2bd8-4efc-4b88-b8df-837d92dde519"
      },
      "execution_count": 160,
      "outputs": [
        {
          "output_type": "execute_result",
          "data": {
            "text/plain": [
              "2     2023-05-15\n",
              "6     2023-09-21\n",
              "7     2023-06-24\n",
              "8     2023-05-12\n",
              "18    2023-04-09\n",
              "         ...    \n",
              "321   2023-04-22\n",
              "324   2023-10-14\n",
              "332   2023-11-21\n",
              "333   2023-05-24\n",
              "334   2023-04-22\n",
              "Name: birthday, Length: 95, dtype: datetime64[ns]"
            ]
          },
          "metadata": {},
          "execution_count": 160
        }
      ]
    },
    {
      "cell_type": "markdown",
      "source": [
        "All birthday days are 2023 year, so we cannot check age of users and we need more data to make analis\n",
        "\n",
        "we can use  schoolDateRange if possible but it will be not correct analis"
      ],
      "metadata": {
        "id": "XsI2RUeWw3Tp"
      }
    },
    {
      "cell_type": "code",
      "source": [
        "#lets use\n",
        "\n",
        "\n",
        "present = data['jobdaterange'].str.contains('Present').sum()\n",
        "all = data['jobdaterange'].count()\n",
        "present = all-present\n",
        "print('only',present,'people not working at now')"
      ],
      "metadata": {
        "colab": {
          "base_uri": "https://localhost:8080/"
        },
        "id": "ExMGklzmyB11",
        "outputId": "71128e94-5380-4476-c779-9046bfc3fe07"
      },
      "execution_count": 161,
      "outputs": [
        {
          "output_type": "stream",
          "name": "stdout",
          "text": [
            "only 3 people not working at now\n"
          ]
        }
      ]
    },
    {
      "cell_type": "markdown",
      "source": [
        "##not positive result"
      ],
      "metadata": {
        "id": "r0dHqNZJ1u8-"
      }
    },
    {
      "cell_type": "code",
      "source": [
        "#by cicivility\n",
        "sent_personal_fu = data.query('result==\"2. Sent Personal f/u\"')\n",
        "sent_personal_fu['civilityfromdropcontact'].value_counts()"
      ],
      "metadata": {
        "colab": {
          "base_uri": "https://localhost:8080/"
        },
        "id": "SfI3YVAgyDDN",
        "outputId": "d7892132-6c16-4f48-e346-0075ea1fd865"
      },
      "execution_count": 165,
      "outputs": [
        {
          "output_type": "execute_result",
          "data": {
            "text/plain": [
              "Mr     92\n",
              "Mrs    30\n",
              "Name: civilityfromdropcontact, dtype: int64"
            ]
          },
          "metadata": {},
          "execution_count": 165
        }
      ]
    },
    {
      "cell_type": "markdown",
      "source": [],
      "metadata": {
        "id": "G9A92V8nD4bp"
      }
    },
    {
      "cell_type": "markdown",
      "source": [
        "There are not enought  data like  birthday or etc.\n",
        "Will be good to see actual birth year and more categorise school degree or timestamp when used bought event tkt.\n",
        "On that moment i can only say about civility patten,that 'Mr ' use much more than 'Mrs' and only 'Mr' bougths tkt"
      ],
      "metadata": {
        "id": "dFhi_sp6EW6x"
      }
    },
    {
      "cell_type": "code",
      "source": [],
      "metadata": {
        "id": "yshLGfqRFJ5N"
      },
      "execution_count": null,
      "outputs": []
    }
  ]
}